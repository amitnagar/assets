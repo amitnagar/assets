{
 "cells": [
  {
   "cell_type": "code",
   "execution_count": 1,
   "id": "578db286",
   "metadata": {},
   "outputs": [],
   "source": [
    "from bs4 import BeautifulSoup as BS\n",
    "import requests as req\n",
    "import pandas as pd"
   ]
  },
  {
   "cell_type": "code",
   "execution_count": 2,
   "id": "8e247651",
   "metadata": {},
   "outputs": [],
   "source": [
    "pd.set_option('display.max_colwidth', None)"
   ]
  },
  {
   "cell_type": "code",
   "execution_count": 3,
   "id": "91b18f21",
   "metadata": {},
   "outputs": [],
   "source": [
    "url = 'https://www.fool.com/'"
   ]
  },
  {
   "cell_type": "code",
   "execution_count": 4,
   "id": "1f2d81cc",
   "metadata": {},
   "outputs": [],
   "source": [
    "webpage = req.get(url)  # YOU CAN EVEN DIRECTLY PASTE THE URL IN THIS\n",
    "# HERE HTML PARSER IS ACTUALLY THE WHOLE HTML PAGE\n",
    "trav = BS(webpage.content, \"html.parser\")"
   ]
  },
  {
   "cell_type": "code",
   "execution_count": 5,
   "id": "ab79795b",
   "metadata": {
    "scrolled": false
   },
   "outputs": [],
   "source": [
    "rs = trav.find_all(\"a\", {\"class\": \"text-gray-1100\"})"
   ]
  },
  {
   "cell_type": "code",
   "execution_count": 6,
   "id": "ca070ae9",
   "metadata": {
    "scrolled": true
   },
   "outputs": [
    {
     "name": "stdout",
     "output_type": "stream",
     "text": [
      "['https://www.fool.com/investing/2022/09/10/washington-wants-2-huge-changes-to-social-security/', 'https://www.fool.com/investing/2022/09/10/why-social-security-retirees-should-mark-oct-13/', 'https://www.fool.com/investing/2022/09/11/stock-split-stock-soar-112-52-week-low-wall-street/', 'https://www.fool.com/investing/2022/09/10/the-3-biggest-social-security-changes-in-2023/', 'https://www.fool.com/investing/2022/09/11/stock-split-stock-to-buy-hand-over-fist-1-to-avoid/', 'https://www.fool.com/investing/2022/09/10/nasdaq-bear-market-5-growth-stocks-regret-not-buy/', 'https://www.fool.com/investing/2022/09/11/3-growth-stocks-turn-300000-into-1-million-by-2029/', 'https://www.fool.com/investing/2022/09/11/investing-stock-market-turn-20000-350000/', 'https://www.fool.com/investing/2022/09/11/will-i-lose-2023s-big-social-security-raise-if-i-d/', 'https://www.fool.com/investing/2022/09/11/the-best-stocks-to-invest-50000-in-right-now/', 'https://www.fool.com/investing/2022/09/10/warren-buffett-71-billion-invested-in-4-stocks/']\n"
     ]
    }
   ],
   "source": [
    "headlines=[]\n",
    "for i in range(len(rs)):\n",
    "    if rs[i]['class'] == ['text-gray-1100']:\n",
    "        headline = str(rs[i])\n",
    "        start = headline.find('href')\n",
    "        end =   headline.find('>')\n",
    "        headlines.append(url+headline[start+7:end-1])\n",
    "        \n",
    "print(headlines)"
   ]
  },
  {
   "cell_type": "code",
   "execution_count": 7,
   "id": "43b4ee4d",
   "metadata": {},
   "outputs": [],
   "source": [
    "(pd.DataFrame(headlines)).to_csv(\"./output/08252022/headlines.csv\")"
   ]
  },
  {
   "cell_type": "code",
   "execution_count": 8,
   "id": "2e03c11f",
   "metadata": {
    "scrolled": false
   },
   "outputs": [],
   "source": [
    "#loop over headlines to get stories\n",
    "stories=[]\n",
    "for i in range(len(headlines)):\n",
    "    story = req.get(headlines[i])\n",
    "    trav = BS(story.content, \"html.parser\")\n",
    "    story = trav.find(\"div\", {\"class\": \"tailwind-article-body\"})\n",
    "    story = story.get_text()\n",
    "    stories.append(story)"
   ]
  },
  {
   "cell_type": "code",
   "execution_count": 9,
   "id": "4f9e82ea",
   "metadata": {
    "scrolled": true
   },
   "outputs": [],
   "source": [
    "storiesDF = pd.DataFrame(stories,columns=['story'])\n",
    "storiesDF.to_csv(\"./output/08252022/financialStories.csv\")"
   ]
  },
  {
   "cell_type": "code",
   "execution_count": 10,
   "id": "87577b92",
   "metadata": {},
   "outputs": [],
   "source": [
    "storiesDF.to_csv(\"financialStories.csv\")"
   ]
  }
 ],
 "metadata": {
  "kernelspec": {
   "display_name": "Python 3 (ipykernel)",
   "language": "python",
   "name": "python3"
  },
  "language_info": {
   "codemirror_mode": {
    "name": "ipython",
    "version": 3
   },
   "file_extension": ".py",
   "mimetype": "text/x-python",
   "name": "python",
   "nbconvert_exporter": "python",
   "pygments_lexer": "ipython3",
   "version": "3.9.12"
  }
 },
 "nbformat": 4,
 "nbformat_minor": 5
}
